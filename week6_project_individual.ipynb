{
 "cells": [
  {
   "cell_type": "code",
   "execution_count": 1,
   "id": "06c4911f",
   "metadata": {},
   "outputs": [
    {
     "name": "stdout",
     "output_type": "stream",
     "text": [
      "Please enter an initial stock level : 500\n",
      "Please enter the number of months to plan :5\n",
      "Please enter the planned sales quantity for month 1: 300\n",
      "Therefore, nothing needs to be produced and the resulting stock is :200\n",
      "Please enter the planned sales quantity for month 2: 250\n",
      "Therefore 50 pieces need to be produced. The resulting stock level is 0\n",
      "Please enter the planned sales quantity for month 3: 200\n",
      "Therefore 200 pieces need to be produced. The resulting stock level is 0\n",
      "Please enter the planned sales quantity for month 4: 400\n",
      "Therefore 400 pieces need to be produced. The resulting stock level is 0\n",
      "Please enter the planned sales quantity for month 5: 100\n",
      "Therefore 100 pieces need to be produced. The resulting stock level is 0\n"
     ]
    }
   ],
   "source": [
    "# Sales and Operation Planning Projet\n",
    "initial_stock=int(input(\"Please enter an initial stock level : \"))\n",
    "number_of_month_to_plan = int(input(\"Please enter the number of months to plan :\"))\n",
    "i=0\n",
    "\n",
    "while i < number_of_month_to_plan:\n",
    "    # for sales quantity for month\n",
    "    quantity_month=int(input(f\"Please enter the planned sales quantity for month {i+1}: \"))\n",
    "    i+=1\n",
    "    if i == 1:\n",
    "        # sales quantity for month 1 month_now1\n",
    "        month_now1=initial_stock - quantity_month\n",
    "        if month_now1 > 0:\n",
    "            print(f\"Therefore, nothing needs to be produced and the resulting stock is :{month_now1}\")\n",
    "        else:\n",
    "            print(f\"Therefore {quantity_month} pieces need to be produced. The resulting stock level is 0\")     \n",
    "    if i==2 and month_now1 is not None :\n",
    "         # sales quantity for month 2 month_now2\n",
    "        month_now2=month_now1 - quantity_month\n",
    "        if month_now2 > 0:\n",
    "            print(f\"Therefore, nothing needs to be produced and the resulting stock is :{month_now2}\")\n",
    "        else:\n",
    "            print(f\"Therefore {quantity_month-month_now1} pieces need to be produced. The resulting stock level is 0\")        \n",
    "    if i ==3 and month_now2 is not None :\n",
    "         # sales quantity for month 3 month_now3\n",
    "        month_now3=month_now2 - quantity_month\n",
    "        if month_now3 > 0:\n",
    "            print(f\"Therefore, nothing needs to be produced and the resulting stock is :{month_now3}\")\n",
    "        else:\n",
    "            print(f\"Therefore {quantity_month} pieces need to be produced. The resulting stock level is 0\")        \n",
    "    if i ==4 and month_now3 is not None :\n",
    "         # sales quantity for month 4 month_now4\n",
    "        month_now4=month_now3 - quantity_month\n",
    "        if month_now4 > 0:\n",
    "            print(f\"Therefore, nothing needs to be produced and the resulting stock is :{month_now4}\")\n",
    "        else:\n",
    "            print(f\"Therefore {quantity_month} pieces need to be produced. The resulting stock level is 0\")  \n",
    "    if i ==5 and month_now4 is not None :\n",
    "         # sales quantity for month 5 month_now5\n",
    "        month_now5=month_now3 - quantity_month\n",
    "        if month_now5 > 0:\n",
    "            print(f\"Therefore, nothing needs to be produced and the resulting stock is :{month_now5}\")\n",
    "        else:\n",
    "            print(f\"Therefore {quantity_month} pieces need to be produced. The resulting stock level is 0\")     "
   ]
  },
  {
   "cell_type": "code",
   "execution_count": 2,
   "id": "e3e66518",
   "metadata": {},
   "outputs": [
    {
     "data": {
      "text/plain": [
       "['bat', 'rat']"
      ]
     },
     "execution_count": 2,
     "metadata": {},
     "output_type": "execute_result"
    }
   ],
   "source": [
    "spam=['cat','bat','rat','elephant']\n",
    "spam[1:3]"
   ]
  },
  {
   "cell_type": "code",
   "execution_count": 3,
   "id": "e7296f3c",
   "metadata": {},
   "outputs": [
    {
     "name": "stdout",
     "output_type": "stream",
     "text": [
      "9\n",
      "8\n",
      "7\n",
      "6\n"
     ]
    }
   ],
   "source": [
    "for i in [6,7,8,9][: :-1]:\n",
    "    print(i)"
   ]
  },
  {
   "cell_type": "code",
   "execution_count": 4,
   "id": "f489ef18",
   "metadata": {},
   "outputs": [
    {
     "name": "stdout",
     "output_type": "stream",
     "text": [
      "('color', 'red')\n",
      "('age', 42)\n"
     ]
    }
   ],
   "source": [
    "spam={'color':'red','age':42}\n",
    "for i in spam.items():\n",
    "    print(i)"
   ]
  },
  {
   "cell_type": "code",
   "execution_count": 5,
   "id": "e696aa4f",
   "metadata": {},
   "outputs": [
    {
     "name": "stdout",
     "output_type": "stream",
     "text": [
      "0\n",
      "1\n",
      "2\n",
      "3\n"
     ]
    }
   ],
   "source": [
    "z='uvxw'\n",
    "for i in range(len(z)):\n",
    "    print(i)"
   ]
  },
  {
   "cell_type": "code",
   "execution_count": 6,
   "id": "d5aa2691",
   "metadata": {},
   "outputs": [
    {
     "name": "stdout",
     "output_type": "stream",
     "text": [
      "red\n",
      "42\n"
     ]
    }
   ],
   "source": [
    "spam ={'color':'red','age':42}\n",
    "for v in spam.values():\n",
    "    print(v)"
   ]
  },
  {
   "cell_type": "code",
   "execution_count": 7,
   "id": "fb87d30f",
   "metadata": {},
   "outputs": [
    {
     "name": "stdout",
     "output_type": "stream",
     "text": [
      "After Append:  [21, 34, 54, 12, 32]\n"
     ]
    }
   ],
   "source": [
    "numbers=[21,34,54,12]\n",
    "numbers.append(32)\n",
    "print(\"After Append: \",numbers)"
   ]
  },
  {
   "cell_type": "code",
   "execution_count": 10,
   "id": "5f38f276",
   "metadata": {},
   "outputs": [
    {
     "name": "stdout",
     "output_type": "stream",
     "text": [
      "16\n"
     ]
    }
   ],
   "source": [
    "sum =0\n",
    "values=[1,3,5,7]\n",
    "for number in values:\n",
    "    sum=sum+number\n",
    "print(sum)"
   ]
  },
  {
   "cell_type": "code",
   "execution_count": 11,
   "id": "4c536116",
   "metadata": {},
   "outputs": [
    {
     "name": "stdout",
     "output_type": "stream",
     "text": [
      "[4, 6, 8, 10, 12, 14, 16, 18]\n"
     ]
    }
   ],
   "source": [
    "print(list(range(4,20,2)))"
   ]
  },
  {
   "cell_type": "code",
   "execution_count": 15,
   "id": "1dcda3bd",
   "metadata": {},
   "outputs": [
    {
     "name": "stdout",
     "output_type": "stream",
     "text": [
      "My cat has gray fur.\n"
     ]
    }
   ],
   "source": [
    "myCat={'size':'feat','color':'gray','disposition':'loud'}\n",
    "print('My cat has ' + myCat['color'] + ' fur.')"
   ]
  },
  {
   "cell_type": "code",
   "execution_count": 16,
   "id": "a182dec7",
   "metadata": {},
   "outputs": [
    {
     "name": "stdout",
     "output_type": "stream",
     "text": [
      "1\n",
      "2\n",
      "3\n",
      "4\n",
      "5\n",
      "6\n",
      "7\n"
     ]
    }
   ],
   "source": [
    "for value in range(1,8):\n",
    "    print(value)"
   ]
  },
  {
   "cell_type": "code",
   "execution_count": 19,
   "id": "c28cc25e",
   "metadata": {},
   "outputs": [
    {
     "name": "stdout",
     "output_type": "stream",
     "text": [
      "['Glen', 'Kevin', 'Abigail', 'Harry']\n"
     ]
    }
   ],
   "source": [
    "list=['Glen','Kevin','Abigail','Harry']\n",
    "print(list)"
   ]
  },
  {
   "cell_type": "code",
   "execution_count": null,
   "id": "639d7d69",
   "metadata": {},
   "outputs": [],
   "source": []
  }
 ],
 "metadata": {
  "kernelspec": {
   "display_name": "Python 3 (ipykernel)",
   "language": "python",
   "name": "python3"
  },
  "language_info": {
   "codemirror_mode": {
    "name": "ipython",
    "version": 3
   },
   "file_extension": ".py",
   "mimetype": "text/x-python",
   "name": "python",
   "nbconvert_exporter": "python",
   "pygments_lexer": "ipython3",
   "version": "3.10.9"
  }
 },
 "nbformat": 4,
 "nbformat_minor": 5
}
